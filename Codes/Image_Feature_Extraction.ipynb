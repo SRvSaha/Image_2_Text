{
 "cells": [
  {
   "cell_type": "code",
   "execution_count": 1,
   "metadata": {
    "collapsed": false
   },
   "outputs": [
    {
     "name": "stderr",
     "output_type": "stream",
     "text": [
      "Using Theano backend.\n"
     ]
    }
   ],
   "source": [
    "#Imports\n",
    "from resnet50 import ResNet50\n",
    "from imagenet_utils import preprocess_input\n",
    "from keras.preprocessing import image\n",
    "import numpy as np"
   ]
  },
  {
   "cell_type": "code",
   "execution_count": 2,
   "metadata": {
    "collapsed": false
   },
   "outputs": [
    {
     "name": "stderr",
     "output_type": "stream",
     "text": [
      "/home/srvsaha/Image_2_Text/Progress/05-caption/resnet50.py:165: UserWarning: Update your `Conv2D` call to the Keras 2 API: `Conv2D(64, (7, 7), name=\"conv1\", strides=(2, 2))`\n",
      "  x = Convolution2D(64, 7, 7, subsample=(2, 2), name='conv1')(x)\n",
      "/home/srvsaha/Image_2_Text/Progress/05-caption/resnet50.py:90: UserWarning: Update your `Conv2D` call to the Keras 2 API: `Conv2D(64, (1, 1), name=\"res2a_branch2a\", strides=(1, 1))`\n",
      "  name=conv_name_base + '2a')(input_tensor)\n",
      "/home/srvsaha/Image_2_Text/Progress/05-caption/resnet50.py:95: UserWarning: Update your `Conv2D` call to the Keras 2 API: `Conv2D(64, (3, 3), name=\"res2a_branch2b\", padding=\"same\")`\n",
      "  name=conv_name_base + '2b')(x)\n",
      "/home/srvsaha/Image_2_Text/Progress/05-caption/resnet50.py:99: UserWarning: Update your `Conv2D` call to the Keras 2 API: `Conv2D(256, (1, 1), name=\"res2a_branch2c\")`\n",
      "  x = Convolution2D(nb_filter3, 1, 1, name=conv_name_base + '2c')(x)\n",
      "/home/srvsaha/Image_2_Text/Progress/05-caption/resnet50.py:103: UserWarning: Update your `Conv2D` call to the Keras 2 API: `Conv2D(256, (1, 1), name=\"res2a_branch1\", strides=(1, 1))`\n",
      "  name=conv_name_base + '1')(input_tensor)\n",
      "/home/srvsaha/Image_2_Text/Progress/05-caption/resnet50.py:106: UserWarning: The `merge` function is deprecated and will be removed after 08/2017. Use instead layers from `keras.layers.merge`, e.g. `add`, `concatenate`, etc.\n",
      "  x = merge([x, shortcut], mode='sum')\n",
      "/usr/local/lib/python3.5/dist-packages/keras/legacy/layers.py:458: UserWarning: The `Merge` layer is deprecated and will be removed after 08/2017. Use instead layers from `keras.layers.merge`, e.g. `add`, `concatenate`, etc.\n",
      "  name=name)\n",
      "/home/srvsaha/Image_2_Text/Progress/05-caption/resnet50.py:51: UserWarning: Update your `Conv2D` call to the Keras 2 API: `Conv2D(64, (1, 1), name=\"res2b_branch2a\")`\n",
      "  x = Convolution2D(nb_filter1, 1, 1, name=conv_name_base + '2a')(input_tensor)\n",
      "/home/srvsaha/Image_2_Text/Progress/05-caption/resnet50.py:56: UserWarning: Update your `Conv2D` call to the Keras 2 API: `Conv2D(64, (3, 3), name=\"res2b_branch2b\", padding=\"same\")`\n",
      "  border_mode='same', name=conv_name_base + '2b')(x)\n",
      "/home/srvsaha/Image_2_Text/Progress/05-caption/resnet50.py:60: UserWarning: Update your `Conv2D` call to the Keras 2 API: `Conv2D(256, (1, 1), name=\"res2b_branch2c\")`\n",
      "  x = Convolution2D(nb_filter3, 1, 1, name=conv_name_base + '2c')(x)\n",
      "/home/srvsaha/Image_2_Text/Progress/05-caption/resnet50.py:63: UserWarning: The `merge` function is deprecated and will be removed after 08/2017. Use instead layers from `keras.layers.merge`, e.g. `add`, `concatenate`, etc.\n",
      "  x = merge([x, input_tensor], mode='sum')\n",
      "/home/srvsaha/Image_2_Text/Progress/05-caption/resnet50.py:51: UserWarning: Update your `Conv2D` call to the Keras 2 API: `Conv2D(64, (1, 1), name=\"res2c_branch2a\")`\n",
      "  x = Convolution2D(nb_filter1, 1, 1, name=conv_name_base + '2a')(input_tensor)\n",
      "/home/srvsaha/Image_2_Text/Progress/05-caption/resnet50.py:56: UserWarning: Update your `Conv2D` call to the Keras 2 API: `Conv2D(64, (3, 3), name=\"res2c_branch2b\", padding=\"same\")`\n",
      "  border_mode='same', name=conv_name_base + '2b')(x)\n",
      "/home/srvsaha/Image_2_Text/Progress/05-caption/resnet50.py:60: UserWarning: Update your `Conv2D` call to the Keras 2 API: `Conv2D(256, (1, 1), name=\"res2c_branch2c\")`\n",
      "  x = Convolution2D(nb_filter3, 1, 1, name=conv_name_base + '2c')(x)\n",
      "/home/srvsaha/Image_2_Text/Progress/05-caption/resnet50.py:90: UserWarning: Update your `Conv2D` call to the Keras 2 API: `Conv2D(128, (1, 1), name=\"res3a_branch2a\", strides=(2, 2))`\n",
      "  name=conv_name_base + '2a')(input_tensor)\n",
      "/home/srvsaha/Image_2_Text/Progress/05-caption/resnet50.py:95: UserWarning: Update your `Conv2D` call to the Keras 2 API: `Conv2D(128, (3, 3), name=\"res3a_branch2b\", padding=\"same\")`\n",
      "  name=conv_name_base + '2b')(x)\n",
      "/home/srvsaha/Image_2_Text/Progress/05-caption/resnet50.py:99: UserWarning: Update your `Conv2D` call to the Keras 2 API: `Conv2D(512, (1, 1), name=\"res3a_branch2c\")`\n",
      "  x = Convolution2D(nb_filter3, 1, 1, name=conv_name_base + '2c')(x)\n",
      "/home/srvsaha/Image_2_Text/Progress/05-caption/resnet50.py:103: UserWarning: Update your `Conv2D` call to the Keras 2 API: `Conv2D(512, (1, 1), name=\"res3a_branch1\", strides=(2, 2))`\n",
      "  name=conv_name_base + '1')(input_tensor)\n",
      "/home/srvsaha/Image_2_Text/Progress/05-caption/resnet50.py:51: UserWarning: Update your `Conv2D` call to the Keras 2 API: `Conv2D(128, (1, 1), name=\"res3b_branch2a\")`\n",
      "  x = Convolution2D(nb_filter1, 1, 1, name=conv_name_base + '2a')(input_tensor)\n",
      "/home/srvsaha/Image_2_Text/Progress/05-caption/resnet50.py:56: UserWarning: Update your `Conv2D` call to the Keras 2 API: `Conv2D(128, (3, 3), name=\"res3b_branch2b\", padding=\"same\")`\n",
      "  border_mode='same', name=conv_name_base + '2b')(x)\n",
      "/home/srvsaha/Image_2_Text/Progress/05-caption/resnet50.py:60: UserWarning: Update your `Conv2D` call to the Keras 2 API: `Conv2D(512, (1, 1), name=\"res3b_branch2c\")`\n",
      "  x = Convolution2D(nb_filter3, 1, 1, name=conv_name_base + '2c')(x)\n",
      "/home/srvsaha/Image_2_Text/Progress/05-caption/resnet50.py:51: UserWarning: Update your `Conv2D` call to the Keras 2 API: `Conv2D(128, (1, 1), name=\"res3c_branch2a\")`\n",
      "  x = Convolution2D(nb_filter1, 1, 1, name=conv_name_base + '2a')(input_tensor)\n",
      "/home/srvsaha/Image_2_Text/Progress/05-caption/resnet50.py:56: UserWarning: Update your `Conv2D` call to the Keras 2 API: `Conv2D(128, (3, 3), name=\"res3c_branch2b\", padding=\"same\")`\n",
      "  border_mode='same', name=conv_name_base + '2b')(x)\n",
      "/home/srvsaha/Image_2_Text/Progress/05-caption/resnet50.py:60: UserWarning: Update your `Conv2D` call to the Keras 2 API: `Conv2D(512, (1, 1), name=\"res3c_branch2c\")`\n",
      "  x = Convolution2D(nb_filter3, 1, 1, name=conv_name_base + '2c')(x)\n",
      "/home/srvsaha/Image_2_Text/Progress/05-caption/resnet50.py:51: UserWarning: Update your `Conv2D` call to the Keras 2 API: `Conv2D(128, (1, 1), name=\"res3d_branch2a\")`\n",
      "  x = Convolution2D(nb_filter1, 1, 1, name=conv_name_base + '2a')(input_tensor)\n",
      "/home/srvsaha/Image_2_Text/Progress/05-caption/resnet50.py:56: UserWarning: Update your `Conv2D` call to the Keras 2 API: `Conv2D(128, (3, 3), name=\"res3d_branch2b\", padding=\"same\")`\n",
      "  border_mode='same', name=conv_name_base + '2b')(x)\n",
      "/home/srvsaha/Image_2_Text/Progress/05-caption/resnet50.py:60: UserWarning: Update your `Conv2D` call to the Keras 2 API: `Conv2D(512, (1, 1), name=\"res3d_branch2c\")`\n",
      "  x = Convolution2D(nb_filter3, 1, 1, name=conv_name_base + '2c')(x)\n",
      "/home/srvsaha/Image_2_Text/Progress/05-caption/resnet50.py:90: UserWarning: Update your `Conv2D` call to the Keras 2 API: `Conv2D(256, (1, 1), name=\"res4a_branch2a\", strides=(2, 2))`\n",
      "  name=conv_name_base + '2a')(input_tensor)\n",
      "/home/srvsaha/Image_2_Text/Progress/05-caption/resnet50.py:95: UserWarning: Update your `Conv2D` call to the Keras 2 API: `Conv2D(256, (3, 3), name=\"res4a_branch2b\", padding=\"same\")`\n",
      "  name=conv_name_base + '2b')(x)\n",
      "/home/srvsaha/Image_2_Text/Progress/05-caption/resnet50.py:99: UserWarning: Update your `Conv2D` call to the Keras 2 API: `Conv2D(1024, (1, 1), name=\"res4a_branch2c\")`\n",
      "  x = Convolution2D(nb_filter3, 1, 1, name=conv_name_base + '2c')(x)\n",
      "/home/srvsaha/Image_2_Text/Progress/05-caption/resnet50.py:103: UserWarning: Update your `Conv2D` call to the Keras 2 API: `Conv2D(1024, (1, 1), name=\"res4a_branch1\", strides=(2, 2))`\n",
      "  name=conv_name_base + '1')(input_tensor)\n",
      "/home/srvsaha/Image_2_Text/Progress/05-caption/resnet50.py:51: UserWarning: Update your `Conv2D` call to the Keras 2 API: `Conv2D(256, (1, 1), name=\"res4b_branch2a\")`\n",
      "  x = Convolution2D(nb_filter1, 1, 1, name=conv_name_base + '2a')(input_tensor)\n",
      "/home/srvsaha/Image_2_Text/Progress/05-caption/resnet50.py:56: UserWarning: Update your `Conv2D` call to the Keras 2 API: `Conv2D(256, (3, 3), name=\"res4b_branch2b\", padding=\"same\")`\n",
      "  border_mode='same', name=conv_name_base + '2b')(x)\n",
      "/home/srvsaha/Image_2_Text/Progress/05-caption/resnet50.py:60: UserWarning: Update your `Conv2D` call to the Keras 2 API: `Conv2D(1024, (1, 1), name=\"res4b_branch2c\")`\n",
      "  x = Convolution2D(nb_filter3, 1, 1, name=conv_name_base + '2c')(x)\n",
      "/home/srvsaha/Image_2_Text/Progress/05-caption/resnet50.py:51: UserWarning: Update your `Conv2D` call to the Keras 2 API: `Conv2D(256, (1, 1), name=\"res4c_branch2a\")`\n",
      "  x = Convolution2D(nb_filter1, 1, 1, name=conv_name_base + '2a')(input_tensor)\n",
      "/home/srvsaha/Image_2_Text/Progress/05-caption/resnet50.py:56: UserWarning: Update your `Conv2D` call to the Keras 2 API: `Conv2D(256, (3, 3), name=\"res4c_branch2b\", padding=\"same\")`\n",
      "  border_mode='same', name=conv_name_base + '2b')(x)\n",
      "/home/srvsaha/Image_2_Text/Progress/05-caption/resnet50.py:60: UserWarning: Update your `Conv2D` call to the Keras 2 API: `Conv2D(1024, (1, 1), name=\"res4c_branch2c\")`\n",
      "  x = Convolution2D(nb_filter3, 1, 1, name=conv_name_base + '2c')(x)\n",
      "/home/srvsaha/Image_2_Text/Progress/05-caption/resnet50.py:51: UserWarning: Update your `Conv2D` call to the Keras 2 API: `Conv2D(256, (1, 1), name=\"res4d_branch2a\")`\n",
      "  x = Convolution2D(nb_filter1, 1, 1, name=conv_name_base + '2a')(input_tensor)\n",
      "/home/srvsaha/Image_2_Text/Progress/05-caption/resnet50.py:56: UserWarning: Update your `Conv2D` call to the Keras 2 API: `Conv2D(256, (3, 3), name=\"res4d_branch2b\", padding=\"same\")`\n",
      "  border_mode='same', name=conv_name_base + '2b')(x)\n",
      "/home/srvsaha/Image_2_Text/Progress/05-caption/resnet50.py:60: UserWarning: Update your `Conv2D` call to the Keras 2 API: `Conv2D(1024, (1, 1), name=\"res4d_branch2c\")`\n",
      "  x = Convolution2D(nb_filter3, 1, 1, name=conv_name_base + '2c')(x)\n",
      "/home/srvsaha/Image_2_Text/Progress/05-caption/resnet50.py:51: UserWarning: Update your `Conv2D` call to the Keras 2 API: `Conv2D(256, (1, 1), name=\"res4e_branch2a\")`\n",
      "  x = Convolution2D(nb_filter1, 1, 1, name=conv_name_base + '2a')(input_tensor)\n",
      "/home/srvsaha/Image_2_Text/Progress/05-caption/resnet50.py:56: UserWarning: Update your `Conv2D` call to the Keras 2 API: `Conv2D(256, (3, 3), name=\"res4e_branch2b\", padding=\"same\")`\n",
      "  border_mode='same', name=conv_name_base + '2b')(x)\n",
      "/home/srvsaha/Image_2_Text/Progress/05-caption/resnet50.py:60: UserWarning: Update your `Conv2D` call to the Keras 2 API: `Conv2D(1024, (1, 1), name=\"res4e_branch2c\")`\n",
      "  x = Convolution2D(nb_filter3, 1, 1, name=conv_name_base + '2c')(x)\n",
      "/home/srvsaha/Image_2_Text/Progress/05-caption/resnet50.py:51: UserWarning: Update your `Conv2D` call to the Keras 2 API: `Conv2D(256, (1, 1), name=\"res4f_branch2a\")`\n",
      "  x = Convolution2D(nb_filter1, 1, 1, name=conv_name_base + '2a')(input_tensor)\n",
      "/home/srvsaha/Image_2_Text/Progress/05-caption/resnet50.py:56: UserWarning: Update your `Conv2D` call to the Keras 2 API: `Conv2D(256, (3, 3), name=\"res4f_branch2b\", padding=\"same\")`\n",
      "  border_mode='same', name=conv_name_base + '2b')(x)\n",
      "/home/srvsaha/Image_2_Text/Progress/05-caption/resnet50.py:60: UserWarning: Update your `Conv2D` call to the Keras 2 API: `Conv2D(1024, (1, 1), name=\"res4f_branch2c\")`\n",
      "  x = Convolution2D(nb_filter3, 1, 1, name=conv_name_base + '2c')(x)\n",
      "/home/srvsaha/Image_2_Text/Progress/05-caption/resnet50.py:90: UserWarning: Update your `Conv2D` call to the Keras 2 API: `Conv2D(512, (1, 1), name=\"res5a_branch2a\", strides=(2, 2))`\n",
      "  name=conv_name_base + '2a')(input_tensor)\n",
      "/home/srvsaha/Image_2_Text/Progress/05-caption/resnet50.py:95: UserWarning: Update your `Conv2D` call to the Keras 2 API: `Conv2D(512, (3, 3), name=\"res5a_branch2b\", padding=\"same\")`\n",
      "  name=conv_name_base + '2b')(x)\n",
      "/home/srvsaha/Image_2_Text/Progress/05-caption/resnet50.py:99: UserWarning: Update your `Conv2D` call to the Keras 2 API: `Conv2D(2048, (1, 1), name=\"res5a_branch2c\")`\n",
      "  x = Convolution2D(nb_filter3, 1, 1, name=conv_name_base + '2c')(x)\n",
      "/home/srvsaha/Image_2_Text/Progress/05-caption/resnet50.py:103: UserWarning: Update your `Conv2D` call to the Keras 2 API: `Conv2D(2048, (1, 1), name=\"res5a_branch1\", strides=(2, 2))`\n",
      "  name=conv_name_base + '1')(input_tensor)\n",
      "/home/srvsaha/Image_2_Text/Progress/05-caption/resnet50.py:51: UserWarning: Update your `Conv2D` call to the Keras 2 API: `Conv2D(512, (1, 1), name=\"res5b_branch2a\")`\n",
      "  x = Convolution2D(nb_filter1, 1, 1, name=conv_name_base + '2a')(input_tensor)\n",
      "/home/srvsaha/Image_2_Text/Progress/05-caption/resnet50.py:56: UserWarning: Update your `Conv2D` call to the Keras 2 API: `Conv2D(512, (3, 3), name=\"res5b_branch2b\", padding=\"same\")`\n",
      "  border_mode='same', name=conv_name_base + '2b')(x)\n",
      "/home/srvsaha/Image_2_Text/Progress/05-caption/resnet50.py:60: UserWarning: Update your `Conv2D` call to the Keras 2 API: `Conv2D(2048, (1, 1), name=\"res5b_branch2c\")`\n",
      "  x = Convolution2D(nb_filter3, 1, 1, name=conv_name_base + '2c')(x)\n",
      "/home/srvsaha/Image_2_Text/Progress/05-caption/resnet50.py:51: UserWarning: Update your `Conv2D` call to the Keras 2 API: `Conv2D(512, (1, 1), name=\"res5c_branch2a\")`\n",
      "  x = Convolution2D(nb_filter1, 1, 1, name=conv_name_base + '2a')(input_tensor)\n",
      "/home/srvsaha/Image_2_Text/Progress/05-caption/resnet50.py:56: UserWarning: Update your `Conv2D` call to the Keras 2 API: `Conv2D(512, (3, 3), name=\"res5c_branch2b\", padding=\"same\")`\n",
      "  border_mode='same', name=conv_name_base + '2b')(x)\n",
      "/home/srvsaha/Image_2_Text/Progress/05-caption/resnet50.py:60: UserWarning: Update your `Conv2D` call to the Keras 2 API: `Conv2D(2048, (1, 1), name=\"res5c_branch2c\")`\n",
      "  x = Convolution2D(nb_filter3, 1, 1, name=conv_name_base + '2c')(x)\n"
     ]
    },
    {
     "name": "stdout",
     "output_type": "stream",
     "text": [
      "K.image_dim_ordering: tf\n"
     ]
    }
   ],
   "source": [
    "resnet = ResNet50(weights=\"imagenet\", include_top=False)"
   ]
  },
  {
   "cell_type": "code",
   "execution_count": 3,
   "metadata": {
    "collapsed": false
   },
   "outputs": [],
   "source": [
    "def extract_features(img_path):\n",
    "    # load the input image using the Keras helper utility while ensuring\n",
    "    # that the image is resized to 224x224 pxiels, the required input\n",
    "    # dimensions for the network -- then convert the PIL image to a\n",
    "    # NumPy array\n",
    "    img = image.load_img(img_path, target_size=(224, 224))\n",
    "    # Since the img is of type PIL/Pillow, so we need to convert it to numpy array\n",
    "    x = image.img_to_array(img)\n",
    "    # our image is now represented by a NumPy array of shape (3, 224, 224),\n",
    "    # but we need to expand the dimensions to be (1, 3, 224, 224) so we can\n",
    "    # pass it through the network -- we'll also preprocess the image by\n",
    "    # subtracting the mean RGB pixel intensity from the ImageNet dataset\n",
    "    x = np.expand_dims(x, axis=0)\n",
    "    # \n",
    "    x = preprocess_input(x)\n",
    "    features = resnet.predict(x)\n",
    "    return np.expand_dims(features.flatten(), axis=0)"
   ]
  },
  {
   "cell_type": "code",
   "execution_count": 4,
   "metadata": {
    "collapsed": false
   },
   "outputs": [
    {
     "name": "stdout",
     "output_type": "stream",
     "text": [
      "(1, 2048)\n"
     ]
    },
    {
     "data": {
      "text/plain": [
       "array([[ 0.12345686,  0.46467474,  0.55744827, ...,  0.09297403,\n",
       "         0.59401345,  0.14217991]], dtype=float32)"
      ]
     },
     "execution_count": 4,
     "metadata": {},
     "output_type": "execute_result"
    }
   ],
   "source": [
    "print(extract_features(\"./05-caption-images/COCO_val2014_000000000923.jpg\").shape)\n",
    "extract_features(\"./05-caption-images/COCO_val2014_000000000923.jpg\")"
   ]
  }
 ],
 "metadata": {
  "kernelspec": {
   "display_name": "Python 3",
   "language": "python",
   "name": "python3"
  },
  "language_info": {
   "codemirror_mode": {
    "name": "ipython",
    "version": 3
   },
   "file_extension": ".py",
   "mimetype": "text/x-python",
   "name": "python",
   "nbconvert_exporter": "python",
   "pygments_lexer": "ipython3",
   "version": "3.5.2"
  }
 },
 "nbformat": 4,
 "nbformat_minor": 1
}
