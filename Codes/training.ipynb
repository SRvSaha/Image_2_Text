{
 "cells": [
  {
   "cell_type": "code",
   "execution_count": 1,
   "metadata": {
    "collapsed": false
   },
   "outputs": [
    {
     "name": "stderr",
     "output_type": "stream",
     "text": [
      "Using Theano backend.\n"
     ]
    }
   ],
   "source": [
    "%matplotlib inline\n",
    "import json\n",
    "import embedding\n",
    "import numpy as np\n",
    "from keras import backend as K\n",
    "from keras.utils.layer_utils import merge\n",
    "from keras.preprocessing.text import Tokenizer\n",
    "from keras.preprocessing.sequence import pad_sequences\n",
    "from keras.layers import Input, Dense, Embedding, GRU\n",
    "from keras.models import Model\n",
    "import matplotlib.pyplot as plt"
   ]
  },
  {
   "cell_type": "code",
   "execution_count": 2,
   "metadata": {
    "collapsed": true
   },
   "outputs": [],
   "source": [
    "def load(captions_filename, features_filename):\n",
    "    features = np.load(features_filename)\n",
    "    images = []\n",
    "    texts = []\n",
    "    with open(captions_filename) as fp:\n",
    "        for line in fp:\n",
    "            tokens = line.strip().split()\n",
    "            images.append(tokens[0])\n",
    "            texts.append(' '.join(tokens[1:]))\n",
    "    return features, images, texts"
   ]
  },
  {
   "cell_type": "code",
   "execution_count": 3,
   "metadata": {
    "collapsed": true
   },
   "outputs": [],
   "source": [
    "features, images, texts = load('annotations.10k.txt', 'resnet50-features.10k.npy')\n",
    "tokenizer = Tokenizer()\n",
    "tokenizer.fit_on_texts(texts)\n",
    "sequences = tokenizer.texts_to_sequences(texts)\n",
    "captions = pad_sequences(sequences, maxlen=16)\n",
    "vocab = tokenizer.word_index\n",
    "vocab['<eos>'] = 0  # add word with id 0\n",
    "\n",
    "with open('vocab.json', 'w') as fp:  # save the vocab\n",
    "    fp.write(json.dumps(vocab))"
   ]
  },
  {
   "cell_type": "code",
   "execution_count": 4,
   "metadata": {
    "collapsed": false
   },
   "outputs": [
    {
     "name": "stderr",
     "output_type": "stream",
     "text": [
      "loading embeddings from \"glove.twitter.27B.100d.filtered.txt\"\n"
     ]
    }
   ],
   "source": [
    "embedding_weights = embedding.load(vocab, 100, 'glove.twitter.27B.100d.filtered.txt')"
   ]
  },
  {
   "cell_type": "code",
   "execution_count": 5,
   "metadata": {
    "collapsed": true
   },
   "outputs": [],
   "source": [
    "image_input = Input(shape=(2048,))\n",
    "caption_input = Input(shape=(16,))\n",
    "noise_input = Input(shape=(16,))"
   ]
  },
  {
   "cell_type": "code",
   "execution_count": 6,
   "metadata": {
    "collapsed": true
   },
   "outputs": [],
   "source": [
    "caption_embedding = Embedding(\n",
    "    len(vocab), 100, input_length=16, weights=[embedding_weights])\n",
    "caption_rnn = GRU(256)\n",
    "image_dense = Dense(256, activation='tanh')"
   ]
  },
  {
   "cell_type": "code",
   "execution_count": 7,
   "metadata": {
    "collapsed": true
   },
   "outputs": [],
   "source": [
    "image_pipeline = image_dense(image_input)\n",
    "caption_pipeline = caption_rnn(caption_embedding(caption_input))\n",
    "noise_pipeline = caption_rnn(caption_embedding(noise_input))"
   ]
  },
  {
   "cell_type": "code",
   "execution_count": 8,
   "metadata": {
    "collapsed": true
   },
   "outputs": [],
   "source": [
    "positive_pair = merge([image_pipeline, caption_pipeline], mode='dot')\n",
    "negative_pair = merge([image_pipeline, noise_pipeline], mode='dot')\n",
    "output = merge([positive_pair, negative_pair], mode='concat')"
   ]
  },
  {
   "cell_type": "code",
   "execution_count": 9,
   "metadata": {
    "collapsed": true
   },
   "outputs": [],
   "source": [
    "training_model = Model(\n",
    "    input=[image_input, caption_input, noise_input], output=output)\n",
    "image_model = Model(input=image_input, output=image_pipeline)\n",
    "caption_model = Model(input=caption_input, output=caption_pipeline)"
   ]
  },
  {
   "cell_type": "code",
   "execution_count": 10,
   "metadata": {
    "collapsed": true
   },
   "outputs": [],
   "source": [
    "def custom_loss(y_true, y_pred):\n",
    "    positive = y_pred[:, 0]\n",
    "    negative = y_pred[:, 1]\n",
    "    return K.sum(K.maximum(0., 1. - positive + negative))\n",
    "\n",
    "\n",
    "def accuracy(y_true, y_pred):\n",
    "    positive = y_pred[:, 0]\n",
    "    negative = y_pred[:, 1]\n",
    "    return K.mean(positive > negative)"
   ]
  },
  {
   "cell_type": "code",
   "execution_count": 11,
   "metadata": {
    "collapsed": true
   },
   "outputs": [],
   "source": [
    "training_model.compile(loss=custom_loss, optimizer='adam', metrics=[accuracy])"
   ]
  },
  {
   "cell_type": "code",
   "execution_count": 12,
   "metadata": {
    "collapsed": true
   },
   "outputs": [],
   "source": [
    "noise = np.copy(captions)\n",
    "fake_labels = np.zeros((len(features), 1))\n",
    "X_train = [features[:9000], captions[:9000], noise[:9000]]\n",
    "Y_train = fake_labels[:9000]\n",
    "X_valid = [features[-1000:], captions[-1000:], noise[-1000:]]\n",
    "Y_valid = fake_labels[-1000:]"
   ]
  },
  {
   "cell_type": "code",
   "execution_count": 13,
   "metadata": {
    "collapsed": false
   },
   "outputs": [
    {
     "name": "stdout",
     "output_type": "stream",
     "text": [
      "Train on 9000 samples, validate on 1000 samples\n",
      "Epoch 1/1\n",
      "9000/9000 [==============================] - 56s - loss: 38.8268 - accuracy: 0.8161 - val_loss: 19.6186 - val_accuracy: 0.8950\n",
      "Train on 9000 samples, validate on 1000 samples\n",
      "Epoch 1/1\n",
      "9000/9000 [==============================] - 58s - loss: 15.8411 - accuracy: 0.9104 - val_loss: 19.4530 - val_accuracy: 0.8860\n",
      "Train on 9000 samples, validate on 1000 samples\n",
      "Epoch 1/1\n",
      "9000/9000 [==============================] - 66s - loss: 13.1476 - accuracy: 0.9232 - val_loss: 13.4561 - val_accuracy: 0.9170\n",
      "Train on 9000 samples, validate on 1000 samples\n",
      "Epoch 1/1\n",
      "9000/9000 [==============================] - 57s - loss: 11.8671 - accuracy: 0.9310 - val_loss: 15.9337 - val_accuracy: 0.9100\n",
      "Train on 9000 samples, validate on 1000 samples\n",
      "Epoch 1/1\n",
      "9000/9000 [==============================] - 60s - loss: 9.9772 - accuracy: 0.9418 - val_loss: 12.1490 - val_accuracy: 0.9320\n",
      "Train on 9000 samples, validate on 1000 samples\n",
      "Epoch 1/1\n",
      "9000/9000 [==============================] - 58s - loss: 9.5111 - accuracy: 0.9433 - val_loss: 12.3970 - val_accuracy: 0.9290\n",
      "Train on 9000 samples, validate on 1000 samples\n",
      "Epoch 1/1\n",
      "9000/9000 [==============================] - 57s - loss: 8.7798 - accuracy: 0.9491 - val_loss: 10.4608 - val_accuracy: 0.9400\n",
      "Train on 9000 samples, validate on 1000 samples\n",
      "Epoch 1/1\n",
      "9000/9000 [==============================] - 57s - loss: 8.5489 - accuracy: 0.9493 - val_loss: 12.8520 - val_accuracy: 0.9300\n",
      "Train on 9000 samples, validate on 1000 samples\n",
      "Epoch 1/1\n",
      "9000/9000 [==============================] - 61s - loss: 8.4416 - accuracy: 0.9499 - val_loss: 10.6659 - val_accuracy: 0.9380\n",
      "Train on 9000 samples, validate on 1000 samples\n",
      "Epoch 1/1\n",
      "9000/9000 [==============================] - 68s - loss: 6.7788 - accuracy: 0.9608 - val_loss: 13.5308 - val_accuracy: 0.9210\n",
      "Train on 9000 samples, validate on 1000 samples\n",
      "Epoch 1/1\n",
      "9000/9000 [==============================] - 61s - loss: 7.3576 - accuracy: 0.9573 - val_loss: 12.1166 - val_accuracy: 0.9320\n"
     ]
    }
   ],
   "source": [
    "training_accuracy = []\n",
    "testing_accuracy = []\n",
    "training_loss = []\n",
    "testing_loss = []\n",
    "\n",
    "for epoch in range(11):\n",
    "    np.random.shuffle(noise)  # don’t forget to shuffle mismatched captions\n",
    "    history = training_model.fit(X_train, Y_train,\n",
    "                                 validation_data=[\n",
    "                                     X_valid, Y_valid], nb_epoch=1,\n",
    "                                 batch_size=64)\n",
    "    training_accuracy.append(history.history['accuracy'])\n",
    "    testing_accuracy.append(history.history['val_accuracy'])\n",
    "    training_loss.append(history.history['loss'])\n",
    "    testing_loss.append(history.history['val_loss'])"
   ]
  },
  {
   "cell_type": "code",
   "execution_count": 14,
   "metadata": {
    "collapsed": false
   },
   "outputs": [
    {
     "data": {
      "image/png": "[encoded data removed]",
      "text/plain": [
       "<matplotlib.figure.Figure at 0x7f11a0aa9828>"
      ]
     },
     "metadata": {},
     "output_type": "display_data"
    },
    {
     "data": {
      "image/png": "[encoded data removed]",
      "text/plain": [
       "<matplotlib.figure.Figure at 0x7f1195a0dc88>"
      ]
     },
     "metadata": {},
     "output_type": "display_data"
    }
   ],
   "source": [
    "# summarize history for accuracy\n",
    "plt.plot(training_accuracy)\n",
    "plt.plot(testing_accuracy)\n",
    "plt.title('model accuracy')\n",
    "plt.ylabel('accuracy')\n",
    "plt.xlabel('epoch')\n",
    "plt.legend(['train', 'test'], loc='upper left')\n",
    "plt.show()\n",
    "# summarize history for loss\n",
    "plt.plot(training_loss)\n",
    "plt.plot(testing_loss)\n",
    "plt.title('model loss')\n",
    "plt.ylabel('loss')\n",
    "plt.xlabel('epoch')\n",
    "plt.legend(['train', 'test'], loc='upper right')\n",
    "plt.show()"
   ]
  },
  {
   "cell_type": "code",
   "execution_count": 15,
   "metadata": {
    "collapsed": false
   },
   "outputs": [],
   "source": [
    "# save models\n",
    "image_model.save('model.11epoch.image')\n",
    "caption_model.save('model.11epoch.caption')"
   ]
  },
  {
   "cell_type": "code",
   "execution_count": 16,
   "metadata": {
    "collapsed": false
   },
   "outputs": [],
   "source": [
    "# save representations\n",
    "np.save('caption-representations-11epoch', caption_model.predict(captions))\n",
    "np.save('image-representations-11epoch', image_model.predict(features))"
   ]
  }
 ],
 "metadata": {
  "kernelspec": {
   "display_name": "Python 3",
   "language": "python",
   "name": "python3"
  },
  "language_info": {
   "codemirror_mode": {
    "name": "ipython",
    "version": 3
   },
   "file_extension": ".py",
   "mimetype": "text/x-python",
   "name": "python",
   "nbconvert_exporter": "python",
   "pygments_lexer": "ipython3",
   "version": "3.5.2"
  }
 },
 "nbformat": 4,
 "nbformat_minor": 1
}
